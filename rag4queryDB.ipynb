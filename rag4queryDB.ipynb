{
 "cells": [
  {
   "cell_type": "markdown",
   "metadata": {},
   "source": [
    "- **LangChain**: LangChain is a framework for developing applications powered by language models. It provides a set of tools and components for building complex AI systems. LangChain facilitates the integration of language models with external data sources. It offers modules for prompt management, memory, and chains of operations supporting various use cases like chatbots, Q&A systems, and text summarization.\n",
    "- **SQLAlchemy**: A robust SQL toolkit and Object Relational Mapper (ORM) for Python. It facilitates database interaction by abstracting common tasks into Pythonic operations, reducing the need for direct SQL handling."
   ]
  },
  {
   "cell_type": "markdown",
   "metadata": {},
   "source": [
    "# Advanced RAG for Database without exposing DB Data: Text to SQL"
   ]
  },
  {
   "cell_type": "markdown",
   "metadata": {},
   "source": [
    "## Extracting Database Schema"
   ]
  },
  {
   "cell_type": "code",
   "execution_count": 24,
   "metadata": {},
   "outputs": [
    {
     "name": "stdout",
     "output_type": "stream",
     "text": [
      "Tables in DB: ['Comments', 'EventRegistrations', 'Events', 'GroupMemberships', 'Groups', 'Likes', 'Messages', 'Posts', 'Profiles', 'Users']\n",
      "Columns in Comments table: {'name': 'CommentID', 'type': INTEGER(), 'nullable': True, 'default': None, 'primary_key': 1}\n"
     ]
    }
   ],
   "source": [
    "from sqlalchemy import create_engine, inspect\n",
    "\n",
    "# Connect to the SQLite database\n",
    "path_to_DB = 'new.db'\n",
    "engine = create_engine(f'sqlite:///{path_to_DB}')\n",
    "inspector = inspect(engine)\n",
    "\n",
    "# Get list of tables\n",
    "tables = inspector.get_table_names()\n",
    "print('Tables in DB:', tables)\n",
    "print(f'Columns in {tables[0]} table:', inspector.get_columns(tables[0])[0])"
   ]
  },
  {
   "cell_type": "code",
   "execution_count": 25,
   "metadata": {},
   "outputs": [
    {
     "data": {
      "text/plain": [
       "{'new.db': {'Table: Comments': '- CommentID (Type: INTEGER, primary_key: 1)\\n- PostID (Type: INTEGER, primary_key: 0)\\n- UserID (Type: INTEGER, primary_key: 0)\\n- Content (Type: TEXT, primary_key: 0)\\n- CreatedAt (Type: DATETIME, primary_key: 0)',\n",
       "  'Table: EventRegistrations': '- RegistrationID (Type: INTEGER, primary_key: 1)\\n- EventID (Type: INTEGER, primary_key: 0)\\n- UserID (Type: INTEGER, primary_key: 0)\\n- RegisteredAt (Type: DATETIME, primary_key: 0)',\n",
       "  'Table: Events': '- EventID (Type: INTEGER, primary_key: 1)\\n- GroupID (Type: INTEGER, primary_key: 0)\\n- EventName (Type: TEXT, primary_key: 0)\\n- EventDate (Type: DATETIME, primary_key: 0)',\n",
       "  'Table: GroupMemberships': '- MembershipID (Type: INTEGER, primary_key: 1)\\n- GroupID (Type: INTEGER, primary_key: 0)\\n- UserID (Type: INTEGER, primary_key: 0)\\n- JoinedAt (Type: DATETIME, primary_key: 0)',\n",
       "  'Table: Groups': '- GroupID (Type: INTEGER, primary_key: 1)\\n- GroupName (Type: TEXT, primary_key: 0)\\n- Description (Type: TEXT, primary_key: 0)',\n",
       "  'Table: Likes': '- LikeID (Type: INTEGER, primary_key: 1)\\n- PostID (Type: INTEGER, primary_key: 0)\\n- UserID (Type: INTEGER, primary_key: 0)',\n",
       "  'Table: Messages': '- MessageID (Type: INTEGER, primary_key: 1)\\n- SenderID (Type: INTEGER, primary_key: 0)\\n- ReceiverID (Type: INTEGER, primary_key: 0)\\n- Content (Type: TEXT, primary_key: 0)\\n- SentAt (Type: DATETIME, primary_key: 0)',\n",
       "  'Table: Posts': '- PostID (Type: INTEGER, primary_key: 1)\\n- UserID (Type: INTEGER, primary_key: 0)\\n- Content (Type: TEXT, primary_key: 0)\\n- CreatedAt (Type: DATETIME, primary_key: 0)',\n",
       "  'Table: Profiles': '- ProfileID (Type: INTEGER, primary_key: 1)\\n- UserID (Type: INTEGER, primary_key: 0)\\n- FullName (Type: TEXT, primary_key: 0)\\n- Bio (Type: TEXT, primary_key: 0)',\n",
       "  'Table: Users': '- UserID (Type: INTEGER, primary_key: 1)\\n- Username (Type: TEXT, primary_key: 0)\\n- Email (Type: TEXT, primary_key: 0)'},\n",
       " 'new1.db': {'Table: Comments': '- CommentID (Type: INTEGER, primary_key: 1)\\n- PostID (Type: INTEGER, primary_key: 0)\\n- UserID (Type: INTEGER, primary_key: 0)\\n- Content (Type: TEXT, primary_key: 0)\\n- CreatedAt (Type: DATETIME, primary_key: 0)',\n",
       "  'Table: EventRegistrations': '- RegistrationID (Type: INTEGER, primary_key: 1)\\n- EventID (Type: INTEGER, primary_key: 0)\\n- UserID (Type: INTEGER, primary_key: 0)\\n- RegisteredAt (Type: DATETIME, primary_key: 0)',\n",
       "  'Table: Events': '- EventID (Type: INTEGER, primary_key: 1)\\n- GroupID (Type: INTEGER, primary_key: 0)\\n- EventName (Type: TEXT, primary_key: 0)\\n- EventDate (Type: DATETIME, primary_key: 0)',\n",
       "  'Table: GroupMemberships': '- MembershipID (Type: INTEGER, primary_key: 1)\\n- GroupID (Type: INTEGER, primary_key: 0)\\n- UserID (Type: INTEGER, primary_key: 0)\\n- JoinedAt (Type: DATETIME, primary_key: 0)',\n",
       "  'Table: Groups': '- GroupID (Type: INTEGER, primary_key: 1)\\n- GroupName (Type: TEXT, primary_key: 0)\\n- Description (Type: TEXT, primary_key: 0)',\n",
       "  'Table: Likes': '- LikeID (Type: INTEGER, primary_key: 1)\\n- PostID (Type: INTEGER, primary_key: 0)\\n- UserID (Type: INTEGER, primary_key: 0)',\n",
       "  'Table: Messages': '- MessageID (Type: INTEGER, primary_key: 1)\\n- SenderID (Type: INTEGER, primary_key: 0)\\n- ReceiverID (Type: INTEGER, primary_key: 0)\\n- Content (Type: TEXT, primary_key: 0)\\n- SentAt (Type: DATETIME, primary_key: 0)',\n",
       "  'Table: Posts': '- PostID (Type: INTEGER, primary_key: 1)\\n- UserID (Type: INTEGER, primary_key: 0)\\n- Content (Type: TEXT, primary_key: 0)\\n- CreatedAt (Type: DATETIME, primary_key: 0)',\n",
       "  'Table: Profiles': '- ProfileID (Type: INTEGER, primary_key: 1)\\n- UserID (Type: INTEGER, primary_key: 0)\\n- FullName (Type: TEXT, primary_key: 0)\\n- Bio (Type: TEXT, primary_key: 0)',\n",
       "  'Table: Users': '- UserID (Type: INTEGER, primary_key: 1)\\n- Username (Type: TEXT, primary_key: 0)\\n- Email (Type: TEXT, primary_key: 0)'}}"
      ]
     },
     "execution_count": 25,
     "metadata": {},
     "output_type": "execute_result"
    }
   ],
   "source": [
    "def extract_schema(db_url):\n",
    "    engine = create_engine(db_url)\n",
    "    inspector = inspect(engine)\n",
    "\n",
    "    # Get list of tables\n",
    "    tables = inspector.get_table_names()\n",
    "\n",
    "    schema = {}\n",
    "    # Loop through each table and print its schema\n",
    "    for table_name in tables:\n",
    "        columns = inspector.get_columns(table_name)\n",
    "        schema[f'Table: {table_name}'] = '\\n'.join([f\"- {column['name']} (Type: {column['type']}, primary_key: {column['primary_key']})\" for column in columns])\n",
    "        \n",
    "    return schema\n",
    "\n",
    "path_to_DBs = ['new.db', 'new1.db']         \n",
    "sqlite_url = 'sqlite:///{}'\n",
    "schemas = {}\n",
    "for path_to_DB in path_to_DBs:\n",
    "    schemas[path_to_DB] = extract_schema(sqlite_url.format(path_to_DB))    \n",
    "schemas"
   ]
  },
  {
   "cell_type": "markdown",
   "metadata": {},
   "source": [
    "## Quering DB with SQLAlchemy"
   ]
  },
  {
   "cell_type": "markdown",
   "metadata": {},
   "source": [
    "**Using SQLAlchemy Core**\n",
    "\n",
    "Allows writing SQL queries directly in Python. This is closer to raw SQL but with added abstraction."
   ]
  },
  {
   "cell_type": "code",
   "execution_count": 26,
   "metadata": {},
   "outputs": [
    {
     "name": "stdout",
     "output_type": "stream",
     "text": [
      "['GroupID', 'GroupName', 'Description']\n"
     ]
    },
    {
     "data": {
      "text/plain": [
       "[(1, 'Adventure Club', 'For adventure lovers'),\n",
       " (2, 'Builders Club', 'For building enthusiasts'),\n",
       " (3, 'Music Club', 'For music lovers'),\n",
       " (4, 'Coding Club', 'For coding enthusiasts'),\n",
       " (5, 'Design Club', 'For designers and artists'),\n",
       " (6, 'Gardening Club', 'For gardening lovers')]"
      ]
     },
     "execution_count": 26,
     "metadata": {},
     "output_type": "execute_result"
    }
   ],
   "source": [
    "from sqlalchemy import text\n",
    "table = 'Groups'\n",
    "col_names = [_['name'] for _ in inspector.get_columns(table_name=table)]\n",
    "print(col_names)\n",
    "\n",
    "with engine.connect() as connection:\n",
    "    result = connection.execute(text(f'SELECT * FROM {table}'))\n",
    "list(result)"
   ]
  },
  {
   "cell_type": "markdown",
   "metadata": {},
   "source": [
    "**SQLAlchemy ORM (Object-Relational Mapping)**\n",
    "\n",
    "Maps database tables to Python classes, allowing interacting with data as Python objects. This is useful for more complex applications and when working with database records as objects."
   ]
  },
  {
   "cell_type": "code",
   "execution_count": 27,
   "metadata": {},
   "outputs": [
    {
     "data": {
      "text/plain": [
       "['Adventure Club',\n",
       " 'Builders Club',\n",
       " 'Music Club',\n",
       " 'Coding Club',\n",
       " 'Design Club',\n",
       " 'Gardening Club']"
      ]
     },
     "execution_count": 27,
     "metadata": {},
     "output_type": "execute_result"
    }
   ],
   "source": [
    "from sqlalchemy.orm import sessionmaker, declarative_base\n",
    "from sqlalchemy import Column, Integer, String\n",
    "\n",
    "Session = sessionmaker(bind=engine)\n",
    "session = Session()\n",
    "Base = declarative_base()\n",
    "\n",
    "class Table(Base):\n",
    "    __tablename__ = table\n",
    "    GroupID = Column(Integer, primary_key=True)\n",
    "    GroupName = Column(String)\n",
    "\n",
    "results = session.query(Table).all()\n",
    "[row.GroupName for row in results]"
   ]
  },
  {
   "cell_type": "markdown",
   "metadata": {},
   "source": [
    "## Retrieve"
   ]
  },
  {
   "cell_type": "code",
   "execution_count": 37,
   "metadata": {},
   "outputs": [
    {
     "data": {
      "text/plain": [
       "{'new.db': \"{'Table: Comments': '- CommentID (Type: INTEGER, primary_key: 1)\\\\n- PostID (Type: INTEGER, primary_key: 0)\\\\n- UserID (Type: INTEGER, primary_key: 0)\\\\n- Content (Type: TEXT, primary_key: 0)\\\\n- CreatedAt (Type: DATETIME, primary_key: 0)', 'Table: EventRegistrations': '- RegistrationID (Type: INTEGER, primary_key: 1)\\\\n- EventID (Type: INTEGER, primary_key: 0)\\\\n- UserID (Type: INTEGER, primary_key: 0)\\\\n- RegisteredAt (Type: DATETIME, primary_key: 0)', 'Table: Events': '- EventID (Type: INTEGER, primary_key: 1)\\\\n- GroupID (Type: INTEGER, primary_key: 0)\\\\n- EventName (Type: TEXT, primary_key: 0)\\\\n- EventDate (Type: DATETIME, primary_key: 0)', 'Table: GroupMemberships': '- MembershipID (Type: INTEGER, primary_key: 1)\\\\n- GroupID (Type: INTEGER, primary_key: 0)\\\\n- UserID (Type: INTEGER, primary_key: 0)\\\\n- JoinedAt (Type: DATETIME, primary_key: 0)', 'Table: Groups': '- GroupID (Type: INTEGER, primary_key: 1)\\\\n- GroupName (Type: TEXT, primary_key: 0)\\\\n- Description (Type: TEXT, primary_key: 0)', 'Table: Likes': '- LikeID (Type: INTEGER, primary_key: 1)\\\\n- PostID (Type: INTEGER, primary_key: 0)\\\\n- UserID (Type: INTEGER, primary_key: 0)', 'Table: Messages': '- MessageID (Type: INTEGER, primary_key: 1)\\\\n- SenderID (Type: INTEGER, primary_key: 0)\\\\n- ReceiverID (Type: INTEGER, primary_key: 0)\\\\n- Content (Type: TEXT, primary_key: 0)\\\\n- SentAt (Type: DATETIME, primary_key: 0)', 'Table: Posts': '- PostID (Type: INTEGER, primary_key: 1)\\\\n- UserID (Type: INTEGER, primary_key: 0)\\\\n- Content (Type: TEXT, primary_key: 0)\\\\n- CreatedAt (Type: DATETIME, primary_key: 0)', 'Table: Profiles': '- ProfileID (Type: INTEGER, primary_key: 1)\\\\n- UserID (Type: INTEGER, primary_key: 0)\\\\n- FullName (Type: TEXT, primary_key: 0)\\\\n- Bio (Type: TEXT, primary_key: 0)', 'Table: Users': '- UserID (Type: INTEGER, primary_key: 1)\\\\n- Username (Type: TEXT, primary_key: 0)\\\\n- Email (Type: TEXT, primary_key: 0)'}\",\n",
       " 'new1.db': \"{'Table: Comments': '- CommentID (Type: INTEGER, primary_key: 1)\\\\n- PostID (Type: INTEGER, primary_key: 0)\\\\n- UserID (Type: INTEGER, primary_key: 0)\\\\n- Content (Type: TEXT, primary_key: 0)\\\\n- CreatedAt (Type: DATETIME, primary_key: 0)', 'Table: EventRegistrations': '- RegistrationID (Type: INTEGER, primary_key: 1)\\\\n- EventID (Type: INTEGER, primary_key: 0)\\\\n- UserID (Type: INTEGER, primary_key: 0)\\\\n- RegisteredAt (Type: DATETIME, primary_key: 0)', 'Table: Events': '- EventID (Type: INTEGER, primary_key: 1)\\\\n- GroupID (Type: INTEGER, primary_key: 0)\\\\n- EventName (Type: TEXT, primary_key: 0)\\\\n- EventDate (Type: DATETIME, primary_key: 0)', 'Table: GroupMemberships': '- MembershipID (Type: INTEGER, primary_key: 1)\\\\n- GroupID (Type: INTEGER, primary_key: 0)\\\\n- UserID (Type: INTEGER, primary_key: 0)\\\\n- JoinedAt (Type: DATETIME, primary_key: 0)', 'Table: Groups': '- GroupID (Type: INTEGER, primary_key: 1)\\\\n- GroupName (Type: TEXT, primary_key: 0)\\\\n- Description (Type: TEXT, primary_key: 0)', 'Table: Likes': '- LikeID (Type: INTEGER, primary_key: 1)\\\\n- PostID (Type: INTEGER, primary_key: 0)\\\\n- UserID (Type: INTEGER, primary_key: 0)', 'Table: Messages': '- MessageID (Type: INTEGER, primary_key: 1)\\\\n- SenderID (Type: INTEGER, primary_key: 0)\\\\n- ReceiverID (Type: INTEGER, primary_key: 0)\\\\n- Content (Type: TEXT, primary_key: 0)\\\\n- SentAt (Type: DATETIME, primary_key: 0)', 'Table: Posts': '- PostID (Type: INTEGER, primary_key: 1)\\\\n- UserID (Type: INTEGER, primary_key: 0)\\\\n- Content (Type: TEXT, primary_key: 0)\\\\n- CreatedAt (Type: DATETIME, primary_key: 0)', 'Table: Profiles': '- ProfileID (Type: INTEGER, primary_key: 1)\\\\n- UserID (Type: INTEGER, primary_key: 0)\\\\n- FullName (Type: TEXT, primary_key: 0)\\\\n- Bio (Type: TEXT, primary_key: 0)', 'Table: Users': '- UserID (Type: INTEGER, primary_key: 1)\\\\n- Username (Type: TEXT, primary_key: 0)\\\\n- Email (Type: TEXT, primary_key: 0)'}\"}"
      ]
     },
     "execution_count": 37,
     "metadata": {},
     "output_type": "execute_result"
    }
   ],
   "source": [
    "text_schema = {k: str(v) for k, v in schemas.items()}\n",
    "text_schema"
   ]
  },
  {
   "cell_type": "code",
   "execution_count": 40,
   "metadata": {},
   "outputs": [],
   "source": [
    "from langchain_community.embeddings.spacy_embeddings import SpacyEmbeddings\n",
    "from langchain_community.vectorstores import FAISS \n",
    "from langchain.tools.retriever import create_retriever_tool\n",
    "\n",
    "embeddings = SpacyEmbeddings(model_name='en_core_web_sm')\n",
    "\n",
    "vector_store = FAISS.from_texts(list(text_schema.values()), embedding=embeddings)\n",
    "vector_store.save_local('faiss_db')"
   ]
  },
  {
   "cell_type": "code",
   "execution_count": null,
   "metadata": {},
   "outputs": [
    {
     "data": {
      "text/plain": [
       "\"{'Table: Comments': '- CommentID (Type: INTEGER, primary_key: 1)\\\\n- PostID (Type: INTEGER, primary_key: 0)\\\\n- UserID (Type: INTEGER, primary_key: 0)\\\\n- Content (Type: TEXT, primary_key: 0)\\\\n- CreatedAt (Type: DATETIME, primary_key: 0)', 'Table: EventRegistrations': '- RegistrationID (Type: INTEGER, primary_key: 1)\\\\n- EventID (Type: INTEGER, primary_key: 0)\\\\n- UserID (Type: INTEGER, primary_key: 0)\\\\n- RegisteredAt (Type: DATETIME, primary_key: 0)', 'Table: Events': '- EventID (Type: INTEGER, primary_key: 1)\\\\n- GroupID (Type: INTEGER, primary_key: 0)\\\\n- EventName (Type: TEXT, primary_key: 0)\\\\n- EventDate (Type: DATETIME, primary_key: 0)', 'Table: GroupMemberships': '- MembershipID (Type: INTEGER, primary_key: 1)\\\\n- GroupID (Type: INTEGER, primary_key: 0)\\\\n- UserID (Type: INTEGER, primary_key: 0)\\\\n- JoinedAt (Type: DATETIME, primary_key: 0)', 'Table: Groups': '- GroupID (Type: INTEGER, primary_key: 1)\\\\n- GroupName (Type: TEXT, primary_key: 0)\\\\n- Description (Type: TEXT, primary_key: 0)', 'Table: Likes': '- LikeID (Type: INTEGER, primary_key: 1)\\\\n- PostID (Type: INTEGER, primary_key: 0)\\\\n- UserID (Type: INTEGER, primary_key: 0)', 'Table: Messages': '- MessageID (Type: INTEGER, primary_key: 1)\\\\n- SenderID (Type: INTEGER, primary_key: 0)\\\\n- ReceiverID (Type: INTEGER, primary_key: 0)\\\\n- Content (Type: TEXT, primary_key: 0)\\\\n- SentAt (Type: DATETIME, primary_key: 0)', 'Table: Posts': '- PostID (Type: INTEGER, primary_key: 1)\\\\n- UserID (Type: INTEGER, primary_key: 0)\\\\n- Content (Type: TEXT, primary_key: 0)\\\\n- CreatedAt (Type: DATETIME, primary_key: 0)', 'Table: Profiles': '- ProfileID (Type: INTEGER, primary_key: 1)\\\\n- UserID (Type: INTEGER, primary_key: 0)\\\\n- FullName (Type: TEXT, primary_key: 0)\\\\n- Bio (Type: TEXT, primary_key: 0)', 'Table: Users': '- UserID (Type: INTEGER, primary_key: 1)\\\\n- Username (Type: TEXT, primary_key: 0)\\\\n- Email (Type: TEXT, primary_key: 0)'}\""
      ]
     },
     "execution_count": 58,
     "metadata": {},
     "output_type": "execute_result"
    }
   ],
   "source": [
    "vector_store = FAISS.load_local('faiss_db', embeddings=embeddings, allow_dangerous_deserialization=True)\n",
    "retriever = vector_store.as_retriever(search_kwargs={\"k\": 1}) # top_k=1 will return only the top chunk.\n",
    "retriever_chain = create_retriever_tool(retriever, 'DB_schema_extractor', 'This tool is to give database schema based on queries')"
   ]
  },
  {
   "cell_type": "code",
   "execution_count": null,
   "metadata": {},
   "outputs": [],
   "source": [
    "\n",
    "user_question = \"Find me the registration id of the hackathon\"\n",
    "schema = retriever_chain.invoke(user_question)\n",
    "schema"
   ]
  },
  {
   "cell_type": "markdown",
   "metadata": {},
   "source": [
    "## Augmented with LangChain"
   ]
  },
  {
   "cell_type": "code",
   "execution_count": 59,
   "metadata": {},
   "outputs": [
    {
     "name": "stdout",
     "output_type": "stream",
     "text": [
      "You are an AI that generates SQL queries from a database schema and a question. Example:\n",
      "Schema: `Table Student - StudentID (INTEGER, PK), ClassID (INTEGER)`\n",
      "`Table Class - ClassID (INTEGER, PK), ClassName (TEXT)`\n",
      "\n",
      "Question: 'How many students are in the Chemistry class?'\n",
      "Query:\n",
      "```sql\n",
      "SELECT count(s.StudentID) as no_student\n",
      "FROM Student s, Class c\n",
      "WHERE s.ClassID = c.ClassID AND c.ClassName = 'Chemistry'\n",
      "```\n",
      "\n",
      "Using the schema `{'Table: Comments': '- CommentID (Type: INTEGER, primary_key: 1)\\n- PostID (Type: INTEGER, primary_key: 0)\\n- UserID (Type: INTEGER, primary_key: 0)\\n- Content (Type: TEXT, primary_key: 0)\\n- CreatedAt (Type: DATETIME, primary_key: 0)', 'Table: EventRegistrations': '- RegistrationID (Type: INTEGER, primary_key: 1)\\n- EventID (Type: INTEGER, primary_key: 0)\\n- UserID (Type: INTEGER, primary_key: 0)\\n- RegisteredAt (Type: DATETIME, primary_key: 0)', 'Table: Events': '- EventID (Type: INTEGER, primary_key: 1)\\n- GroupID (Type: INTEGER, primary_key: 0)\\n- EventName (Type: TEXT, primary_key: 0)\\n- EventDate (Type: DATETIME, primary_key: 0)', 'Table: GroupMemberships': '- MembershipID (Type: INTEGER, primary_key: 1)\\n- GroupID (Type: INTEGER, primary_key: 0)\\n- UserID (Type: INTEGER, primary_key: 0)\\n- JoinedAt (Type: DATETIME, primary_key: 0)', 'Table: Groups': '- GroupID (Type: INTEGER, primary_key: 1)\\n- GroupName (Type: TEXT, primary_key: 0)\\n- Description (Type: TEXT, primary_key: 0)', 'Table: Likes': '- LikeID (Type: INTEGER, primary_key: 1)\\n- PostID (Type: INTEGER, primary_key: 0)\\n- UserID (Type: INTEGER, primary_key: 0)', 'Table: Messages': '- MessageID (Type: INTEGER, primary_key: 1)\\n- SenderID (Type: INTEGER, primary_key: 0)\\n- ReceiverID (Type: INTEGER, primary_key: 0)\\n- Content (Type: TEXT, primary_key: 0)\\n- SentAt (Type: DATETIME, primary_key: 0)', 'Table: Posts': '- PostID (Type: INTEGER, primary_key: 1)\\n- UserID (Type: INTEGER, primary_key: 0)\\n- Content (Type: TEXT, primary_key: 0)\\n- CreatedAt (Type: DATETIME, primary_key: 0)', 'Table: Profiles': '- ProfileID (Type: INTEGER, primary_key: 1)\\n- UserID (Type: INTEGER, primary_key: 0)\\n- FullName (Type: TEXT, primary_key: 0)\\n- Bio (Type: TEXT, primary_key: 0)', 'Table: Users': '- UserID (Type: INTEGER, primary_key: 1)\\n- Username (Type: TEXT, primary_key: 0)\\n- Email (Type: TEXT, primary_key: 0)'}`, generate a SQL query for:\n",
      "Find me the registration id of the hackathon\n",
      "\n",
      "SQL Query:\n",
      "\n"
     ]
    }
   ],
   "source": [
    "from langchain.prompts import PromptTemplate\n",
    "\n",
    "prompt_template = \"\"\"You are an AI that generates SQL queries from a database schema and a question. Example:\n",
    "Schema: `Table Student - StudentID (INTEGER, PK), ClassID (INTEGER)`\n",
    "`Table Class - ClassID (INTEGER, PK), ClassName (TEXT)`\n",
    "\n",
    "Question: 'How many students are in the Chemistry class?'\n",
    "Query:\n",
    "```sql\n",
    "SELECT count(s.StudentID) as no_student\n",
    "FROM Student s, Class c\n",
    "WHERE s.ClassID = c.ClassID AND c.ClassName = 'Chemistry'\n",
    "```\n",
    "\n",
    "Using the schema `{schema}`, generate a SQL query for:\n",
    "{question}\n",
    "\n",
    "SQL Query:\n",
    "\"\"\"\n",
    "prompt = PromptTemplate(\n",
    "    input_variables=[\"schema\", \"question\"],\n",
    "    template=prompt_template,\n",
    ")\n",
    "\n",
    "formatted_prompt = prompt.format(schema=schema, question=user_question)\n",
    "print(formatted_prompt)"
   ]
  },
  {
   "cell_type": "markdown",
   "metadata": {},
   "source": [
    "## Generating SQL Queries"
   ]
  },
  {
   "cell_type": "code",
   "execution_count": 61,
   "metadata": {},
   "outputs": [
    {
     "name": "stdout",
     "output_type": "stream",
     "text": [
      "SELECT userId(uid, sessionId) as \"UserID\"\n",
      "\n",
      "From:\n",
      "\n",
      "Get me the registration id for the hackathon Get me the user id for the hackathon Find me the user id for the hackathon Find me the registration id for the hackathon Find me the user id for the hackathon Find me the registration id for the hackathon Find me the user id for the hackathon and\n",
      "\n",
      "If you like this article, consider helping me out by buying or\n"
     ]
    }
   ],
   "source": [
    "from langchain.llms import HuggingFacePipeline\n",
    "from transformers import AutoTokenizer, AutoModelForCausalLM, pipeline\n",
    "\n",
    "# Load the model\n",
    "model_names = {'gpt2': 'gpt2',\n",
    "               'falcon-7b': \"tiiuae/falcon-7b-instruct\"}\n",
    "model_name = model_names['gpt2']\n",
    "\n",
    "tokenizer = AutoTokenizer.from_pretrained(model_name, clean_up_tokenization_spaces=True)\n",
    "model = AutoModelForCausalLM.from_pretrained(model_name)\n",
    "\n",
    "# Set up a local pipeline\n",
    "sql_generator = pipeline(task='text-generation', \n",
    "                        model=model, \n",
    "                        tokenizer=tokenizer, \n",
    "                        max_new_tokens=100, \n",
    "                        pad_token_id=50256) # Setting `pad_token_id` to `eos_token_id`:50256 for open-end generation\n",
    "\n",
    "llm = HuggingFacePipeline(pipeline=sql_generator)\n",
    "\n",
    "# Use the local model with the prompt\n",
    "response = llm.invoke(formatted_prompt, do_sample=True, temperature=0.7)\n",
    "response_without_context = response[len(formatted_prompt):].strip()\n",
    "print(response_without_context)"
   ]
  },
  {
   "cell_type": "markdown",
   "metadata": {},
   "source": [
    "## Run app"
   ]
  },
  {
   "cell_type": "code",
   "execution_count": 1,
   "metadata": {},
   "outputs": [
    {
     "name": "stdout",
     "output_type": "stream",
     "text": [
      "^C\n"
     ]
    }
   ],
   "source": [
    "!streamlit run app.py"
   ]
  },
  {
   "cell_type": "markdown",
   "metadata": {},
   "source": [
    "# Reference"
   ]
  },
  {
   "cell_type": "markdown",
   "metadata": {},
   "source": [
    "[Advanced RAG for Database without exposing DB Data: Text to SQL](https://blog.gopenai.com/advanced-rag-for-database-without-exposing-db-data-text-to-sql-a0e71f00e010)"
   ]
  }
 ],
 "metadata": {
  "kernelspec": {
   "display_name": "Python 3",
   "language": "python",
   "name": "python3"
  },
  "language_info": {
   "codemirror_mode": {
    "name": "ipython",
    "version": 3
   },
   "file_extension": ".py",
   "mimetype": "text/x-python",
   "name": "python",
   "nbconvert_exporter": "python",
   "pygments_lexer": "ipython3",
   "version": "3.11.9"
  }
 },
 "nbformat": 4,
 "nbformat_minor": 2
}
